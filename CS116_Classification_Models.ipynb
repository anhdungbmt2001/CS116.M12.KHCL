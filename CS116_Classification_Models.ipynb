{
  "nbformat": 4,
  "nbformat_minor": 0,
  "metadata": {
    "colab": {
      "name": "CS116 - Classification Models.ipynb",
      "provenance": [],
      "collapsed_sections": [],
      "authorship_tag": "ABX9TyNH6QfEviQNTwshefXJUus0"
    },
    "kernelspec": {
      "name": "python3",
      "display_name": "Python 3"
    },
    "language_info": {
      "name": "python"
    }
  },
  "cells": [
    {
      "cell_type": "code",
      "metadata": {
        "id": "2eifR41dZeN8"
      },
      "source": [
        "# Bước 1: Đọc dữ liệu từ file .csv\n",
        "import pandas\n",
        "data = pandas.read_csv(\"/content/Social_Network_Ads.csv\")\n",
        "\n",
        "# Bước 2: Phân chia dữ liệu thành tập train và tập test theo tỉ lệ 8:2\n",
        "import numpy\n",
        "from sklearn.model_selection import train_test_split\n",
        "data_in = data.drop(['Purchased'], axis=1)\n",
        "data_out = data[['Purchased']]\n",
        "data_out = numpy.ravel(data_out)\n",
        "in_train, in_test = train_test_split(data_in, train_size=0.8, test_size=0.2, random_state=0)\n",
        "out_train, out_test = train_test_split(data_out, train_size=0.8, test_size=0.2, random_state=0)\n",
        "\n",
        "# Bước 3: Chuẩn hóa dữ liệu\n",
        "from sklearn.preprocessing import StandardScaler\n",
        "scaler = StandardScaler()\n",
        "in_train = scaler.fit_transform(in_train)\n",
        "in_test = scaler.fit_transform(in_test)"
      ],
      "execution_count": null,
      "outputs": []
    },
    {
      "cell_type": "markdown",
      "metadata": {
        "id": "qkOa8TO5oCOM"
      },
      "source": [
        "# Logistic Regression"
      ]
    },
    {
      "cell_type": "code",
      "metadata": {
        "colab": {
          "base_uri": "https://localhost:8080/"
        },
        "id": "hMO39_aKdj-s",
        "outputId": "c608fac8-4795-4799-c4bd-4bf4832ce47d"
      },
      "source": [
        "# Bước 4: Khởi tạo và huấn luyện mô hình\n",
        "from sklearn.linear_model import LogisticRegression\n",
        "model = LogisticRegression()\n",
        "model = model.fit(in_train, out_train)\n",
        "\n",
        "# Bước 5: Infer và đánh giá mô hình\n",
        "from sklearn.model_selection import KFold\n",
        "from sklearn.model_selection import cross_val_score\n",
        "kf = KFold(n_splits=5)\n",
        "cv_score = cross_val_score(model, in_test, out_test, cv=kf)\n",
        "\n",
        "print(\"       Accuracy:\", model.score(in_test, out_test))\n",
        "print(\"KFold Cross-val:\", numpy.mean(cv_score))"
      ],
      "execution_count": null,
      "outputs": [
        {
          "output_type": "stream",
          "name": "stdout",
          "text": [
            "       Accuracy: 0.8875\n",
            "KFold Cross-val: 0.9125\n"
          ]
        }
      ]
    },
    {
      "cell_type": "markdown",
      "metadata": {
        "id": "YvyaVB0Xovbq"
      },
      "source": [
        "# K-Nearest Neighbor"
      ]
    },
    {
      "cell_type": "code",
      "metadata": {
        "colab": {
          "base_uri": "https://localhost:8080/"
        },
        "id": "d8XJRfF3o3AS",
        "outputId": "f529ffdd-de07-4292-e23d-48b57f11700a"
      },
      "source": [
        "# Bước 4: Khởi tạo và huấn luyện mô hình\n",
        "from sklearn.neighbors import KNeighborsClassifier\n",
        "model = KNeighborsClassifier(n_neighbors=5)\n",
        "model = model.fit(in_train, out_train)\n",
        "\n",
        "# Bước 5: Infer và đánh giá mô hình\n",
        "from sklearn.model_selection import KFold\n",
        "from sklearn.model_selection import cross_val_score\n",
        "kf = KFold(n_splits=5)\n",
        "cv_score = cross_val_score(model, in_test, out_test, cv=kf)\n",
        "\n",
        "print(\"       Accuracy:\", model.score(in_test, out_test))\n",
        "print(\"KFold Cross-val:\", numpy.mean(cv_score))"
      ],
      "execution_count": null,
      "outputs": [
        {
          "output_type": "stream",
          "name": "stdout",
          "text": [
            "       Accuracy: 0.9375\n",
            "KFold Cross-val: 0.95\n"
          ]
        }
      ]
    },
    {
      "cell_type": "markdown",
      "metadata": {
        "id": "Rkia016dqg4O"
      },
      "source": [
        "# SVM"
      ]
    },
    {
      "cell_type": "code",
      "metadata": {
        "colab": {
          "base_uri": "https://localhost:8080/"
        },
        "id": "4SlVP87_qlFJ",
        "outputId": "eb4c7b56-8829-42a2-b9ff-b359f28e8efc"
      },
      "source": [
        "# Bước 4: Khởi tạo và huấn luyện mô hình\n",
        "from sklearn.svm import SVC\n",
        "model = SVC(kernel='linear')\n",
        "model = model.fit(in_train, out_train)\n",
        "\n",
        "# Bước 5: Infer và đánh giá mô hình\n",
        "from sklearn.model_selection import KFold\n",
        "from sklearn.model_selection import cross_val_score\n",
        "kf = KFold(n_splits=5)\n",
        "cv_score = cross_val_score(model, in_test, out_test, cv=kf)\n",
        "\n",
        "print(\"       Accuracy:\", model.score(in_test, out_test))\n",
        "print(\"KFold Cross-val:\", numpy.mean(cv_score))"
      ],
      "execution_count": null,
      "outputs": [
        {
          "output_type": "stream",
          "name": "stdout",
          "text": [
            "       Accuracy: 0.8875\n",
            "KFold Cross-val: 0.9\n"
          ]
        }
      ]
    },
    {
      "cell_type": "markdown",
      "metadata": {
        "id": "QBgiClbZsJNM"
      },
      "source": [
        "# Kernel SVM"
      ]
    },
    {
      "cell_type": "code",
      "metadata": {
        "colab": {
          "base_uri": "https://localhost:8080/"
        },
        "id": "DsUcIuR6sM3Y",
        "outputId": "50cd1bbb-dca6-4091-f3af-802f1ec403c1"
      },
      "source": [
        "# Bước 4: Khởi tạo và huấn luyện mô hình\n",
        "from sklearn.svm import SVC\n",
        "model = SVC(kernel='rbf')\n",
        "model = model.fit(in_train, out_train)\n",
        "\n",
        "# Bước 5: Infer và đánh giá mô hình\n",
        "from sklearn.model_selection import KFold\n",
        "from sklearn.model_selection import cross_val_score\n",
        "kf = KFold(n_splits=5)\n",
        "cv_score = cross_val_score(model, in_test, out_test, cv=kf)\n",
        "\n",
        "print(\"       Accuracy:\", model.score(in_test, out_test))\n",
        "print(\"KFold Cross-val:\", numpy.mean(cv_score))"
      ],
      "execution_count": null,
      "outputs": [
        {
          "output_type": "stream",
          "name": "stdout",
          "text": [
            "       Accuracy: 0.9375\n",
            "KFold Cross-val: 0.9375\n"
          ]
        }
      ]
    },
    {
      "cell_type": "markdown",
      "metadata": {
        "id": "UfiM6wM9vQoS"
      },
      "source": [
        "# Naive Bayes"
      ]
    },
    {
      "cell_type": "code",
      "metadata": {
        "colab": {
          "base_uri": "https://localhost:8080/"
        },
        "id": "i_lHD1rzvUdq",
        "outputId": "d0f8fd28-5538-435e-fc52-6099f2fbafe5"
      },
      "source": [
        "# Bước 4: Khởi tạo và huấn luyện mô hình\n",
        "from sklearn.naive_bayes import GaussianNB\n",
        "model = GaussianNB()\n",
        "model = model.fit(in_train, out_train)\n",
        "\n",
        "# Bước 5: Infer và đánh giá mô hình\n",
        "from sklearn.model_selection import KFold\n",
        "from sklearn.model_selection import cross_val_score\n",
        "kf = KFold(n_splits=5)\n",
        "cv_score = cross_val_score(model, in_test, out_test, cv=kf)\n",
        "\n",
        "print(\"       Accuracy:\", model.score(in_test, out_test))\n",
        "print(\"KFold Cross-val:\", numpy.mean(cv_score))"
      ],
      "execution_count": null,
      "outputs": [
        {
          "output_type": "stream",
          "name": "stdout",
          "text": [
            "       Accuracy: 0.9375\n",
            "KFold Cross-val: 0.95\n"
          ]
        }
      ]
    },
    {
      "cell_type": "markdown",
      "metadata": {
        "id": "MJV2HEfmwfca"
      },
      "source": [
        "# Decision Tree"
      ]
    },
    {
      "cell_type": "code",
      "metadata": {
        "colab": {
          "base_uri": "https://localhost:8080/"
        },
        "id": "pKSsZDm2wiIa",
        "outputId": "7bec66b8-d91d-4102-be7f-e420f6feb866"
      },
      "source": [
        "# Bước 4: Khởi tạo và huấn luyện mô hình\n",
        "from sklearn.tree import DecisionTreeClassifier\n",
        "model = DecisionTreeClassifier()\n",
        "model = model.fit(in_train, out_train)\n",
        "\n",
        "# Bước 5: Infer và đánh giá mô hình\n",
        "from sklearn.model_selection import KFold\n",
        "from sklearn.model_selection import cross_val_score\n",
        "kf = KFold(n_splits=5)\n",
        "cv_score = cross_val_score(model, in_test, out_test, cv=kf)\n",
        "\n",
        "print(\"       Accuracy:\", model.score(in_test, out_test))\n",
        "print(\"KFold Cross-val:\", numpy.mean(cv_score))"
      ],
      "execution_count": null,
      "outputs": [
        {
          "output_type": "stream",
          "name": "stdout",
          "text": [
            "       Accuracy: 0.9125\n",
            "KFold Cross-val: 0.9\n"
          ]
        }
      ]
    },
    {
      "cell_type": "markdown",
      "metadata": {
        "id": "25F03ua7xBI4"
      },
      "source": [
        "# Random Forest"
      ]
    },
    {
      "cell_type": "code",
      "metadata": {
        "colab": {
          "base_uri": "https://localhost:8080/"
        },
        "id": "v3hQwE-zxDsi",
        "outputId": "a0bb6b85-f0c7-40bf-e88d-0f78ea60e7bd"
      },
      "source": [
        "# Bước 4: Khởi tạo và huấn luyện mô hình\n",
        "from sklearn.ensemble import RandomForestClassifier\n",
        "model = RandomForestClassifier()\n",
        "model = model.fit(in_train, out_train)\n",
        "\n",
        "# Bước 5: Infer và đánh giá mô hình\n",
        "from sklearn.model_selection import KFold\n",
        "from sklearn.model_selection import cross_val_score\n",
        "kf = KFold(n_splits=5)\n",
        "cv_score = cross_val_score(model, in_test, out_test, cv=kf)\n",
        "\n",
        "print(\"       Accuracy:\", model.score(in_test, out_test))\n",
        "print(\"KFold Cross-val:\", numpy.mean(cv_score))"
      ],
      "execution_count": null,
      "outputs": [
        {
          "output_type": "stream",
          "name": "stdout",
          "text": [
            "       Accuracy: 0.9375\n",
            "KFold Cross-val: 0.925\n"
          ]
        }
      ]
    }
  ]
}