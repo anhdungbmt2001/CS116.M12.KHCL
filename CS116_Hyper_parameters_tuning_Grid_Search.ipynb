{
  "nbformat": 4,
  "nbformat_minor": 0,
  "metadata": {
    "colab": {
      "name": "CS116 - Hyper-parameters tuning - Grid Search.ipynb",
      "provenance": [],
      "collapsed_sections": [],
      "authorship_tag": "ABX9TyOnA1ZsA5ro4hbERvKB+U1V"
    },
    "kernelspec": {
      "name": "python3",
      "display_name": "Python 3"
    },
    "language_info": {
      "name": "python"
    }
  },
  "cells": [
    {
      "cell_type": "code",
      "metadata": {
        "id": "OS14moCYA28o",
        "colab": {
          "base_uri": "https://localhost:8080/"
        },
        "outputId": "72052ffd-ed9f-4289-8c40-ef91d6aa7915"
      },
      "source": [
        "import pandas\n",
        "data = pandas.read_csv(\"/content/Social_Network_Ads (1).csv\")\n",
        "\n",
        "import numpy\n",
        "data_in = data.drop(['Purchased'], axis=1)\n",
        "data_in = numpy.split(data_in, [int(.6*len(data_in)), int(.8*len(data_in)), len(data_in)])\n",
        "in_train, in_val, in_test = data_in[0], data_in[1], data_in[2]\n",
        "data_out = numpy.ravel(data[['Purchased']])\n",
        "data_out = numpy.split(data_out, [int(.6*len(data_out)), int(.8*len(data_out)), len(data_out)])\n",
        "out_train, out_val, out_test = data_out[0], data_out[1], data_out[2]\n",
        "\n",
        "from sklearn.preprocessing import StandardScaler\n",
        "scaler = StandardScaler()\n",
        "in_train = scaler.fit_transform(in_train)\n",
        "in_test = scaler.fit_transform(in_test)\n",
        "\n",
        "from sklearn.svm import SVC\n",
        "model = SVC(kernel=\"linear\")\n",
        "model = model.fit(in_train, out_train)\n",
        "\n",
        "from sklearn.model_selection import KFold\n",
        "from sklearn.model_selection import cross_val_score\n",
        "kf = KFold(n_splits=5)\n",
        "cv_score = cross_val_score(model, in_test, out_test, cv=kf)\n",
        "\n",
        "print(\"Before optimization:\", numpy.mean(cv_score))\n",
        "\n",
        "from sklearn.model_selection import GridSearchCV\n",
        "tuned_param = {\"kernel\": [\"rbf\"], \"C\": [3], \"gamma\": [.8]}\n",
        "search = GridSearchCV(model, tuned_param, cv=kf)\n",
        "model_optimized = search.fit(in_train, out_train)\n",
        "cv_score_after = cross_val_score(model_optimized, in_test, out_test, cv=kf)\n",
        "\n",
        "print(\"After optimization:\", numpy.mean(cv_score_after))"
      ],
      "execution_count": null,
      "outputs": [
        {
          "output_type": "stream",
          "name": "stdout",
          "text": [
            "Before optimization: 0.85\n",
            "After optimization: 0.975\n"
          ]
        }
      ]
    }
  ]
}