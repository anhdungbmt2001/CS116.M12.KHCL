{
  "nbformat": 4,
  "nbformat_minor": 0,
  "metadata": {
    "colab": {
      "name": "CS116 - PCA & Logistic Regression.ipynb",
      "provenance": [],
      "collapsed_sections": [],
      "authorship_tag": "ABX9TyMaW9Q5v5OskPMrWVwfvVXu"
    },
    "kernelspec": {
      "name": "python3",
      "display_name": "Python 3"
    },
    "language_info": {
      "name": "python"
    }
  },
  "cells": [
    {
      "cell_type": "code",
      "metadata": {
        "colab": {
          "base_uri": "https://localhost:8080/"
        },
        "id": "FePBhWq4KI4Z",
        "outputId": "7f0d666c-20dc-400e-fd0f-3eb95f0e8868"
      },
      "source": [
        "# Bước 1: Đọc file Wine.csv\n",
        "import numpy\n",
        "import pandas\n",
        "data = pandas.read_csv(\"/content/Wine.csv\")\n",
        "data_out = data[['Customer_Segment']] # 1 trường dữ liệu đầu ra Y\n",
        "data_out = numpy.ravel(data_out)\n",
        "data.drop(data[['Customer_Segment']], axis=1, inplace=True) # 13 trường dữ liệu đầu vào X\n",
        "\n",
        "# Bước 2: Chuẩn hóa đặc trưng đầu vào X bằng StandardScaler\n",
        "from sklearn.preprocessing import StandardScaler\n",
        "scaler = StandardScaler()\n",
        "standard_data = scaler.fit_transform(data)\n",
        "\n",
        "# Bước 3: PCA để nén đặc trưng đầu vào từ 13 chiều xuống còn 2 chiều\n",
        "from sklearn.decomposition import PCA\n",
        "pca = PCA(n_components=2)\n",
        "data_after_pca = pca.fit_transform(standard_data)\n",
        "\n",
        "# Bước 4: Chia tập dữ liệu của mình ra thành 2 phần train:test = 8:2\n",
        "from sklearn.model_selection import train_test_split\n",
        "data_train, data_test = train_test_split(data_after_pca, train_size=0.8, test_size=0.2, random_state=0)\n",
        "out_train, out_test = train_test_split(data_out, train_size=0.8, test_size=0.2, random_state=0)\n",
        "\n",
        "# Bước 5: Dùng Logistic Regeression để phân lớp dữ liệu\n",
        "from sklearn.linear_model import LogisticRegression\n",
        "model = LogisticRegression()\n",
        "model = model.fit(data_train, out_train)\n",
        "\n",
        "# Bước 6: Đánh giá mô hình với độ đo accuracy\n",
        "model.score(data_test, out_test)"
      ],
      "execution_count": null,
      "outputs": [
        {
          "output_type": "execute_result",
          "data": {
            "text/plain": [
              "0.9722222222222222"
            ]
          },
          "metadata": {},
          "execution_count": 111
        }
      ]
    },
    {
      "cell_type": "code",
      "metadata": {
        "colab": {
          "base_uri": "https://localhost:8080/"
        },
        "id": "cnT185W5rm--",
        "outputId": "80ac1499-c3d4-4f7f-a9c1-560132e8608e"
      },
      "source": [
        "# Bước 7: đánh giá mô hình bằng cross validation với K=5\n",
        "from sklearn.model_selection import KFold\n",
        "from sklearn.model_selection import cross_val_score\n",
        "kf = KFold(n_splits=5, shuffle=True, random_state=0)\n",
        "score = cross_val_score(model, data_test, out_test, cv=kf)\n",
        "numpy.mean(score)"
      ],
      "execution_count": null,
      "outputs": [
        {
          "output_type": "execute_result",
          "data": {
            "text/plain": [
              "0.9428571428571428"
            ]
          },
          "metadata": {},
          "execution_count": 112
        }
      ]
    }
  ]
}