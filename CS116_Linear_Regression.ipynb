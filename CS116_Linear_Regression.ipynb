{
  "nbformat": 4,
  "nbformat_minor": 0,
  "metadata": {
    "colab": {
      "name": "CS116 - Linear Regression.ipynb",
      "provenance": [],
      "collapsed_sections": [],
      "authorship_tag": "ABX9TyOZ7uhI7xBhjSkFHC4UEBIQ"
    },
    "kernelspec": {
      "name": "python3",
      "display_name": "Python 3"
    },
    "language_info": {
      "name": "python"
    }
  },
  "cells": [
    {
      "cell_type": "markdown",
      "metadata": {
        "id": "7YrkeEEDA0pb"
      },
      "source": [
        "## Simple Linear Regression"
      ]
    },
    {
      "cell_type": "code",
      "metadata": {
        "colab": {
          "base_uri": "https://localhost:8080/",
          "height": 282
        },
        "id": "JamspNwLe6NL",
        "outputId": "83e6602a-74f5-4d76-c53c-adc637949b3e"
      },
      "source": [
        "# Bước 1: đọc dữ liệu từ file data\n",
        "import numpy\n",
        "import pandas\n",
        "data_SLR = pandas.read_csv(\"/content/Salary_Data.csv\")\n",
        "data_SLR_arr = data_SLR.to_numpy()\n",
        "\n",
        "# Bước 2: phân chia data thành tập huấn luyện và tập kiểm tra ==> sử dụng K-fold cross validation\n",
        "from sklearn.model_selection import KFold\n",
        "kfold = KFold(n_splits=2, shuffle=True, random_state=0)\n",
        "SLR_train_i, SLR_test_i = kfold.split(data_SLR)\n",
        "SLR_train_i = SLR_train_i[0]\n",
        "SLR_test_i = SLR_test_i[0]\n",
        "SLR_in_train, SLR_in_test = data_SLR_arr[SLR_train_i, 0].reshape(-1, 1), data_SLR_arr[SLR_test_i, 0].reshape(-1, 1)\n",
        "SLR_out_train, SLR_out_test = data_SLR_arr[SLR_train_i, 1].reshape(-1, 1), data_SLR_arr[SLR_test_i, 1].reshape(-1, 1)\n",
        "\n",
        "# Bước 3: chuẩn hóa dữ liệu (nếu cần)\n",
        "\n",
        "# Bước 4: huấn luyện mô hình\n",
        "from sklearn.linear_model import LinearRegression\n",
        "model = LinearRegression()\n",
        "model = model.fit(SLR_in_train, SLR_out_train)\n",
        "\n",
        "# Bước 5: predict và tính accuracy trên mô hình vừa huấn luyện\n",
        "from sklearn.model_selection import cross_val_score\n",
        "score = cross_val_score(model, SLR_in_test, SLR_out_test, cv=kfold)\n",
        "print(\"Accuracy:\", numpy.mean(score))\n",
        "\n",
        "# Bước 6: trực quan hóa dữ liệu\n",
        "from matplotlib import pyplot as plt\n",
        "plt.scatter(SLR_in_test, SLR_out_test)\n",
        "plt.plot(SLR_in_test, model.predict(SLR_in_test), color='red')\n",
        "plt.show()"
      ],
      "execution_count": null,
      "outputs": [
        {
          "output_type": "stream",
          "name": "stdout",
          "text": [
            "Accuracy: 0.9339267956950106\n"
          ]
        },
        {
          "output_type": "display_data",
          "data": {
            "image/png": "[encoded data removed]",
            "text/plain": [
              "<Figure size 432x288 with 1 Axes>"
            ]
          },
          "metadata": {
            "needs_background": "light"
          }
        }
      ]
    },
    {
      "cell_type": "markdown",
      "metadata": {
        "id": "YpZqD12DBb2g"
      },
      "source": [
        "## Multiple Linear Regression"
      ]
    },
    {
      "cell_type": "code",
      "metadata": {
        "id": "GKkwYGklBfGu",
        "colab": {
          "base_uri": "https://localhost:8080/"
        },
        "outputId": "24d01f1a-2e5c-49b1-f144-97d61ba0dc8a"
      },
      "source": [
        "# Bước 1: đọc dữ liệu từ file data\n",
        "import numpy\n",
        "import pandas\n",
        "data_MLR = pandas.read_csv(\"/content/50_Startups.csv\")\n",
        "data_MLR = pandas.concat([data_MLR, pandas.get_dummies(data_MLR[['State']])], axis=1)\n",
        "data_MLR = data_MLR.drop(['State'], axis=1)\n",
        "data_MLR_arr = data_MLR.to_numpy()\n",
        "\n",
        "# Bước 2: phân chia data thành tập huấn luyện và tập kiểm tra ==> sử dụng K-fold cross validation\n",
        "from sklearn.model_selection import KFold\n",
        "kfold = KFold(n_splits=2, shuffle=True, random_state=0)\n",
        "MLR_train_i, MLR_test_i = kfold.split(data_MLR)\n",
        "MLR_train_i = MLR_train_i[0]\n",
        "MLR_test_i = MLR_test_i[0]\n",
        "MLR_in_train = pandas.DataFrame(data_MLR_arr[MLR_train_i, 0].reshape(-1, 1))\n",
        "MLR_in_test = pandas.DataFrame(data_MLR_arr[MLR_test_i, 0].reshape(-1, 1))\n",
        "for i in [1, 2, 4, 5, 6]:\n",
        "    MLR_in_train = pandas.concat((MLR_in_train, pandas.DataFrame(data_MLR_arr[MLR_train_i, i].reshape(-1, 1))), axis=1, ignore_index=True)\n",
        "    MLR_in_test = pandas.concat((MLR_in_test, pandas.DataFrame(data_MLR_arr[MLR_test_i, i].reshape(-1, 1))), axis=1, ignore_index=True)\n",
        "MLR_out_train = pandas.DataFrame(data_MLR_arr[MLR_train_i, 3].reshape(-1, 1))\n",
        "MLR_out_test = pandas.DataFrame(data_MLR_arr[MLR_test_i, 3].reshape(-1, 1))\n",
        "\n",
        "# Bước 3: chuẩn hóa dữ liệu (nếu cần)\n",
        "\n",
        "# Bước 4: huấn luyện mô hình\n",
        "from sklearn.linear_model import LinearRegression\n",
        "model = LinearRegression()\n",
        "model = model.fit(MLR_in_train, MLR_out_train)\n",
        "\n",
        "# Bước 5: predict và tính accuracy trên mô hình vừa huấn luyện\n",
        "from sklearn.model_selection import cross_val_score\n",
        "score = cross_val_score(model, MLR_in_test, MLR_out_test, cv=kfold)\n",
        "print(\"Accuracy:\", numpy.mean(score))"
      ],
      "execution_count": null,
      "outputs": [
        {
          "output_type": "stream",
          "name": "stdout",
          "text": [
            "Accuracy: 0.8653091869809857\n"
          ]
        }
      ]
    }
  ]
}